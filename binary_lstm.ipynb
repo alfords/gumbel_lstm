{
 "cells": [
  {
   "cell_type": "markdown",
   "metadata": {},
   "source": [
    "# Contents\n",
    "\n",
    "We train an LSTM with gumbel-sigmoid gates on a toy language modelling problem.\n",
    "Such LSTM can than be binarized to reach signifficantly greater speed."
   ]
  },
  {
   "cell_type": "code",
   "execution_count": 1,
   "metadata": {
    "collapsed": false
   },
   "outputs": [
    {
     "name": "stdout",
     "output_type": "stream",
     "text": [
      "env: THEANO_FLAGS=\"device=gpu2\"\n"
     ]
    }
   ],
   "source": [
    "%env THEANO_FLAGS=\"device=gpu2\""
   ]
  },
  {
   "cell_type": "code",
   "execution_count": 2,
   "metadata": {
    "collapsed": false
   },
   "outputs": [
    {
     "name": "stderr",
     "output_type": "stream",
     "text": [
      "Using gpu device 2: GeForce GTX 1080 (CNMeM is enabled with initial size: 95.0% of memory, cuDNN 5105)\n"
     ]
    }
   ],
   "source": [
    "import numpy as np\n",
    "import theano\n",
    "import theano.tensor as T\n",
    "import lasagne\n",
    "import os"
   ]
  },
  {
   "cell_type": "markdown",
   "metadata": {},
   "source": [
    "# Generate mtg cards\n",
    "* Regular RNN language modelling done by LSTM with \"binary\" gates"
   ]
  },
  {
   "cell_type": "code",
   "execution_count": 3,
   "metadata": {
    "collapsed": false
   },
   "outputs": [],
   "source": [
    "start_token = \" \"\n",
    "\n",
    "with open(\"mtg_card_names.txt\") as f:\n",
    "    names = f.read()[:-1].split('\\n')\n",
    "    names = [start_token+name for name in names]\n",
    "    "
   ]
  },
  {
   "cell_type": "code",
   "execution_count": 4,
   "metadata": {
    "collapsed": false
   },
   "outputs": [
    {
     "name": "stdout",
     "output_type": "stream",
     "text": [
      "n samples =  16714\n",
      " [1G] Instant: Moonmist\n",
      " [None] Land: Crystal Quarry\n",
      " [3GW] Legendary Enchantment Creature, God: Karametra, God of Harvests\n",
      " [2R] Creature, Human Rogue: Spireside Infiltrator\n",
      " [3R] Creature, Human Archer: Mardu Heart-Piercer\n",
      " [UB] Creature, Spirit: Dimir Infiltrator\n",
      " [2UU] Creature, Human Wizard: Lunar Mystic\n",
      " [3R] Creature, Goblin Artificer: Krark-Clan Engineers\n",
      " [4GG] Creature, Elemental Warrior: Root-Kin Ally\n",
      " [None] Land: Ancient Tomb\n",
      " [None] Plane, Ulgrotha: The Dark Barony\n",
      " [3U] Creature, Bird Wizard: Aven Fogbringer\n",
      " [5R] Creature, Djinn: Halam Djinn\n",
      " [3WW] Creature, Human: Veteran Bodyguard\n",
      " [2RRR] Creature, Human Berserker: Aerathi Berserker\n",
      " [None] Legendary Creature, Eldrazi Angel: Brisela, Voice of Nightmares\n",
      " [2U] Creature, Human Wizard: Apprentice Sorcerer\n"
     ]
    }
   ],
   "source": [
    "print 'n samples = ',len(names)\n",
    "for x in names[::1000]:\n",
    "    print x"
   ]
  },
  {
   "cell_type": "markdown",
   "metadata": {},
   "source": [
    "# Text processing"
   ]
  },
  {
   "cell_type": "code",
   "execution_count": 5,
   "metadata": {
    "collapsed": false
   },
   "outputs": [
    {
     "name": "stdout",
     "output_type": "stream",
     "text": [
      "n_tokens =  78\n"
     ]
    }
   ],
   "source": [
    "#all unique characters go here\n",
    "token_set = set()\n",
    "for name in names:\n",
    "    for letter in name:\n",
    "        token_set.add(letter)\n",
    "\n",
    "tokens = list(token_set)\n",
    "\n",
    "print 'n_tokens = ',len(tokens)\n"
   ]
  },
  {
   "cell_type": "code",
   "execution_count": 6,
   "metadata": {
    "collapsed": false
   },
   "outputs": [],
   "source": [
    "#!token_to_id = <dictionary of symbol -> its identifier (index in tokens list)>\n",
    "token_to_id = {t:i for i,t in enumerate(tokens) }\n",
    "\n",
    "#!id_to_token = < dictionary of symbol identifier -> symbol itself>\n",
    "id_to_token = {i:t for i,t in enumerate(tokens)}"
   ]
  },
  {
   "cell_type": "code",
   "execution_count": 7,
   "metadata": {
    "collapsed": false
   },
   "outputs": [
    {
     "data": {
      "image/png": "[encoded data removed]",
      "text/plain": [
       "<matplotlib.figure.Figure at 0x7f5ba8a82e10>"
      ]
     },
     "metadata": {},
     "output_type": "display_data"
    }
   ],
   "source": [
    "import matplotlib.pyplot as plt\n",
    "%matplotlib inline\n",
    "plt.hist(map(len,names),bins=25);\n",
    "\n",
    "# truncate names longer than MAX_LEN characters. \n",
    "MAX_LEN = min([60,max(list(map(len,names)))])\n",
    "#ADJUST IF YOU ARE UP TO SOMETHING SERIOUS\n"
   ]
  },
  {
   "cell_type": "markdown",
   "metadata": {},
   "source": [
    "### Cast everything from symbols into identifiers"
   ]
  },
  {
   "cell_type": "code",
   "execution_count": 8,
   "metadata": {
    "collapsed": false
   },
   "outputs": [],
   "source": [
    "names_ix = list(map(lambda name: list(map(token_to_id.get,name)),names))\n",
    "\n",
    "\n",
    "#crop long names and pad short ones\n",
    "for i in range(len(names_ix)):\n",
    "    names_ix[i] = names_ix[i][:MAX_LEN] #crop too long\n",
    "    \n",
    "    if len(names_ix[i]) < MAX_LEN:\n",
    "        names_ix[i] += [token_to_id[\" \"]]*(MAX_LEN - len(names_ix[i])) #pad too short\n",
    "        \n",
    "assert len(set(map(len,names_ix)))==1\n",
    "\n",
    "names_ix = np.array(names_ix)"
   ]
  },
  {
   "cell_type": "markdown",
   "metadata": {},
   "source": [
    "# Input variables"
   ]
  },
  {
   "cell_type": "code",
   "execution_count": 9,
   "metadata": {
    "collapsed": true
   },
   "outputs": [],
   "source": [
    "from agentnet import Recurrence\n",
    "from lasagne.layers import *\n",
    "from agentnet.memory import *\n",
    "from agentnet.resolver import ProbabilisticResolver\n",
    "from gumbel_sigmoid import GumbelSigmoid"
   ]
  },
  {
   "cell_type": "code",
   "execution_count": 10,
   "metadata": {
    "collapsed": true
   },
   "outputs": [],
   "source": [
    "sequence = T.matrix('token sequence','int64')\n",
    "\n",
    "inputs = sequence[:,:-1]\n",
    "targets = sequence[:,1:]\n",
    "\n",
    "\n",
    "l_input_sequence = InputLayer(shape=(None, None),input_var=inputs)\n"
   ]
  },
  {
   "cell_type": "markdown",
   "metadata": {},
   "source": [
    "# Build NN\n",
    "\n",
    "You'll be building a model that takes token sequence and predicts next tokens at each tick\n",
    "\n",
    "This is basically equivalent to how rnn step was described in the lecture"
   ]
  },
  {
   "cell_type": "code",
   "execution_count": 11,
   "metadata": {
    "collapsed": false
   },
   "outputs": [],
   "source": [
    "###One step of rnn\n",
    "\n",
    "class rnn:\n",
    "    n_hid = 100\n",
    "    temp = theano.shared(np.float32(1.0))\n",
    "    \n",
    "    #inputs\n",
    "    inp = InputLayer((None,),name='current character')\n",
    "    prev_cell = InputLayer((None,n_hid),name='previous lstm cell')\n",
    "    prev_hid = InputLayer((None,n_hid),name='previous ltsm output')\n",
    "    \n",
    "    #recurrent part\n",
    "    emb = EmbeddingLayer(inp, len(tokens), 30,name='emb')\n",
    "    \n",
    "    new_cell,new_hid = LSTMCell(prev_cell,prev_hid,emb,\n",
    "                                inputgate_nonlinearity=GumbelSigmoid(temp),\n",
    "                                forgetgate_nonlinearity=GumbelSigmoid(temp),\n",
    "                                outputgate_nonlinearity=GumbelSigmoid(temp),\n",
    "                                name=\"rnn\") \n",
    "    \n",
    "    next_token_probas = DenseLayer(new_hid,len(tokens),nonlinearity=T.nnet.softmax)\n",
    "    \n",
    "    #pick next token from predicted probas\n",
    "    next_token = ProbabilisticResolver(next_token_probas)\n",
    "    \n"
   ]
  },
  {
   "cell_type": "markdown",
   "metadata": {},
   "source": [
    "### Loss && Training"
   ]
  },
  {
   "cell_type": "code",
   "execution_count": 12,
   "metadata": {
    "collapsed": false
   },
   "outputs": [
    {
     "name": "stderr",
     "output_type": "stream",
     "text": [
      "/anaconda3/envs/py27/lib/python2.7/site-packages/agentnet/agent/recurrence.py:188: UserWarning: State_variables recommended type is OrderedDict.\n",
      "                Otherwise, order of agent state outputs from get_sessions and get_agent_reaction methods\n",
      "                may depend on python configuration.\n",
      "\n",
      "                Current order is: [<lasagne.layers.merge.ElemwiseMergeLayer object at 0x7f5b9b3520d0>, <lasagne.layers.merge.ElemwiseMergeLayer object at 0x7f5b9b33dd50>]\n",
      "                You may find OrderedDict in standard collections module: from collections import OrderedDict\n",
      "                \n",
      "  \"\"\".format(state_variables=list(self.state_variables.keys())))\n",
      "/anaconda3/envs/py27/lib/python2.7/site-packages/agentnet/agent/recurrence.py:300: UserWarning: You are giving Recurrence an input sequence of undefined length (None).\n",
      "Make sure it is always above <unspecified>(n_steps) you specified for recurrence\n",
      "  \"Make sure it is always above {}(n_steps) you specified for recurrence\".format(n_steps or \"<unspecified>\"))\n"
     ]
    }
   ],
   "source": [
    "training_loop = Recurrence(\n",
    "    state_variables={rnn.new_hid:rnn.prev_hid,\n",
    "                     rnn.new_cell:rnn.prev_cell},\n",
    "    input_sequences={rnn.inp:l_input_sequence},\n",
    "    tracked_outputs=[rnn.next_token_probas,],\n",
    "    unroll_scan=False,\n",
    ")"
   ]
  },
  {
   "cell_type": "code",
   "execution_count": 13,
   "metadata": {
    "collapsed": false
   },
   "outputs": [
    {
     "name": "stdout",
     "output_type": "stream",
     "text": [
      "[emb.W, rnn.b_to_ingate, rnn.W_previous ltsm output_to_ingate, rnn.W_emb_to_ingate, rnn.b_to_forgetgate, rnn.W_previous ltsm output_to_forgetgate, rnn.W_emb_to_forgetgate, rnn.b_to_cell, rnn.W_previous ltsm output_to_cell, rnn.W_emb_to_cell, rnn.b_to_outgate, rnn.W_previous ltsm output_to_outgate, rnn.W_emb_to_outgate, rnn.W_cell_to_ingate_peephole.scales, rnn.W_cell_to_forgetgate_peephole.scales, rnn.W_cell_to_outgate_peephole.scales, W, b]\n"
     ]
    }
   ],
   "source": [
    "# Model weights\n",
    "weights = lasagne.layers.get_all_params(training_loop,trainable=True)\n",
    "print weights"
   ]
  },
  {
   "cell_type": "code",
   "execution_count": 14,
   "metadata": {
    "collapsed": false
   },
   "outputs": [
    {
     "name": "stderr",
     "output_type": "stream",
     "text": [
      "/anaconda3/envs/py27/lib/python2.7/site-packages/agentnet/agent/recurrence.py:592: UserWarning: Warning: recurrent loop without unroll_scan got nonempty random state updates list. That happened because there is some source of randomness (e.g. dropout) inside recurrent step graph. To compile such graph, one must either call .get_automatic_updates() right after .get_output and pass these updates to a function, or use no_defalt_updates=True when compiling theano.function.\n",
      "  warn(\"Warning: recurrent loop without unroll_scan got nonempty random state updates list. That happened\"\n"
     ]
    }
   ],
   "source": [
    "predicted_probabilities = lasagne.layers.get_output(training_loop[rnn.next_token_probas])\n",
    "#If you use dropout do not forget to create deterministic version for evaluation\n",
    "\n",
    "loss = lasagne.objectives.categorical_crossentropy(predicted_probabilities.reshape((-1,len(tokens))),\n",
    "                                                   targets.reshape((-1,))).mean()\n",
    "#<Loss function - a simple categorical crossentropy will do, maybe add some regularizer>\n",
    "\n",
    "updates = lasagne.updates.adam(loss,weights)"
   ]
  },
  {
   "cell_type": "code",
   "execution_count": 15,
   "metadata": {
    "collapsed": false
   },
   "outputs": [],
   "source": [
    "#training\n",
    "train_step = theano.function([sequence], loss,\n",
    "                             updates=training_loop.get_automatic_updates()+updates)"
   ]
  },
  {
   "cell_type": "markdown",
   "metadata": {},
   "source": [
    "# generation\n",
    "\n",
    "here we re-wire the recurrent network so that it's output is fed back to it's input"
   ]
  },
  {
   "cell_type": "code",
   "execution_count": 16,
   "metadata": {
    "collapsed": false
   },
   "outputs": [
    {
     "name": "stderr",
     "output_type": "stream",
     "text": [
      "/anaconda3/envs/py27/lib/python2.7/site-packages/agentnet/agent/recurrence.py:188: UserWarning: State_variables recommended type is OrderedDict.\n",
      "                Otherwise, order of agent state outputs from get_sessions and get_agent_reaction methods\n",
      "                may depend on python configuration.\n",
      "\n",
      "                Current order is: [<agentnet.resolver.probabilistic.ProbabilisticResolver object at 0x7f5b9b352690>, <lasagne.layers.merge.ElemwiseMergeLayer object at 0x7f5b9b33dd50>, <lasagne.layers.merge.ElemwiseMergeLayer object at 0x7f5b9b3520d0>]\n",
      "                You may find OrderedDict in standard collections module: from collections import OrderedDict\n",
      "                \n",
      "  \"\"\".format(state_variables=list(self.state_variables.keys())))\n"
     ]
    }
   ],
   "source": [
    "n_steps = T.scalar(dtype='int32')\n",
    "feedback_loop = Recurrence(\n",
    "    state_variables={rnn.new_cell:rnn.prev_cell,\n",
    "                     rnn.new_hid:rnn.prev_hid,\n",
    "                     rnn.next_token:rnn.inp},\n",
    "    tracked_outputs=[rnn.next_token_probas,],\n",
    "    batch_size=1,\n",
    "    n_steps=n_steps,\n",
    "    unroll_scan=False,\n",
    ")\n",
    "generated_tokens = get_output(feedback_loop[rnn.next_token])\n",
    "generate_sample = theano.function([n_steps],generated_tokens,updates=feedback_loop.get_automatic_updates())"
   ]
  },
  {
   "cell_type": "code",
   "execution_count": 17,
   "metadata": {
    "collapsed": false
   },
   "outputs": [],
   "source": [
    "def generate_string(length=MAX_LEN):\n",
    "    output_indices = generate_sample(length)[0]\n",
    "    \n",
    "    return ''.join(tokens[i] for i in output_indices)\n",
    "    "
   ]
  },
  {
   "cell_type": "code",
   "execution_count": 18,
   "metadata": {
    "collapsed": false
   },
   "outputs": [
    {
     "data": {
      "text/plain": [
       "'i,!pC6WgxJ,eGR)hJ\\'myK6qttUZe2!wzLOu!uUEh[? \"),8dYy,rN56Lb/]d'"
      ]
     },
     "execution_count": 18,
     "metadata": {},
     "output_type": "execute_result"
    }
   ],
   "source": [
    "generate_string()"
   ]
  },
  {
   "cell_type": "markdown",
   "metadata": {},
   "source": [
    "# Model training\n",
    "\n",
    "Here you can tweak parameters or insert your generation function\n",
    "\n",
    "\n",
    "__Once something word-like starts generating, try increasing seq_length__\n",
    "\n"
   ]
  },
  {
   "cell_type": "code",
   "execution_count": null,
   "metadata": {
    "collapsed": true
   },
   "outputs": [],
   "source": [
    "def sample_batch(data, batch_size):\n",
    "    \n",
    "    rows = data[np.random.randint(0,len(data),size=batch_size)]\n",
    "    \n",
    "    return rows"
   ]
  },
  {
   "cell_type": "code",
   "execution_count": null,
   "metadata": {
    "collapsed": false
   },
   "outputs": [],
   "source": []
  },
  {
   "cell_type": "code",
   "execution_count": null,
   "metadata": {
    "collapsed": false
   },
   "outputs": [
    {
     "name": "stdout",
     "output_type": "stream",
     "text": [
      "Training ...\n",
      "\n",
      "\n",
      "Epoch 0 average loss = 2.23312062764\n",
      "Generated names\n",
      "P32Go]Lnet,Lneh,  Caluked:Si, Hafahleer:                     112]Cr Inruunt:Seurmen:Crutantu,Ttl:Es                       ][S]G]Cteuenerarmo,G Gakedceehealirmfar                      1]Wr]Inaun: Cunuttuviyy Witseoh:Dun                          G3[ RSrthte:Wait SdtHie,  Sotarad Slinen kag   Crins   g     KlhLr,3W]    CortArac:Er:       eiar:ot svwhtntlurVofeorirau 90Ofe'ngcWtWovr               C                              ][R]GRot6Lrkbunte:tma:Cf                        Co           wAW:UGUurmir   Cet'eorc isaet Gart                           Dup8iffV'cu-am      Cn  Mumiun  E:                           \n",
      "\n",
      "Epoch 1 average loss = 1.36884490371\n",
      "Generated names\n",
      "4XBB] Lef Ccaray Crer, Cltci Huldar: Svharet Sesttio         [GGG] Instantant: Rranent: Mhpeoctt                          [3R] Crehature, Zomane Hotner: Soma                          1RB] SEntyry: Coman Sulforshiog                              51] Arecartere, Iur   Akilatr: Siyseos Dup                   R [GU]Creature, Hrar:ananon: Aporu Sastat Cf                 P3BG] Crearure, Cxiglil:Olsoht Af Sorgag                     Oryyaoye, Dirarad Burcan Cpagbilar                           4] Creature, Ilture't: Sqipipec Selg                         S6] Enestan Curme: Aetest                                    \n",
      "\n",
      "Epoch 2 average loss = 1.09323358083\n",
      "Generated names\n",
      "[5R] Creature, Lifhrwiom: Ensistr Hesumhweto                 [1BBR] Creature, Mama't: Ghoigeras                           [1GGR] Enshantment: Sadirin Klade                            [1BG] Sorcery: Giblansirc Efbiesgbavi Gathceyc Bere           [G] Sorcicaly Memar: Viva Lpans                             [I] EnsErture, Cranta's Gleidperld Crelal                    [4RWR] Creature, Wuzan Aiind Shesor Srivel: Cadr Bencrninr   [2R] Creature, Olen Vowicthe: Kinen of ocshagol              [3U] Creature, Engberon: Drchait'n S iut Siur Mordin         [5BUBGG] Creature, Huant: Gyreuncear                         \n",
      "\n",
      "Epoch 3 average loss = 0.992977105141\n",
      "Generated names\n",
      "[1] Artifact: Grerderey of Huclell                           [2W] Creatur Wiealt: Waylreas Cteseranter                    [6] Roncany Creature, Spoer Wizars: Tememand S tupsine       [U] Instant: Tclaro Hum themit                               [3Uon] Creature, Warkior: Dalricancecr Bat                   [None] Enghand: Swacee Faglerc                               [2G] Creature, Rrucickon: Deahsecrinter Spirted              [4U] Creature, Torkiot Rondmeer: Bepekter Prols              [2WW] Creature, Sriyleri Wire Pirge Sraigle Riit             [WG] Instant: Berte of Prod                                  \n",
      "\n",
      "Epoch 4 average loss = 0.944420027852\n",
      "Generated names\n",
      "[3U] Creature, Bnent Aurment: Autan Lar:                     [RU] Creatue, Deard: Kpbuak of Fubl                          [5BR] Creature, Elem: Fhite Elelix                           [4UU] Instant: Plheldion Lefeon                              [1RR] Enchantment: Ahme Jor Spamit                           [T] Artifact Creature, Peast: Ovurdifagus Warriz             [1BB] Sorcery: Arlr Avamorases                               [UU] Creature, Human Allat: olkourag of the thlinger         [11R] Instant: Tomcoter Plat                                 [3W] Legend Creature, Elgy Borcer Secer Frewt                \n",
      "\n",
      "Epoch 5 average loss = 0.905712340713\n",
      "Generated names\n",
      "[4UU] Sorcery: Waltu Zhseatiek                               [3B] Creature, Kemmine: Murzof: Tuokor Demanataren           [5RW/G] Sorcery: Oatil                                       [BG] Legenedrar, Crungon: Hochen of the Glund                [5GG] Enchantment, Aura: Deazenada Slup                      [2B] Creature, Human Dasment: Crye th Anvie-Ax Sour themstri [WG] Creature, Eld: Porber of Clexadin                       [3U] Creature, In Shtacer: theid Wwamphe                     [5U] Enchantment, Arurame: Pravold Coldlus                   [1BG] Creature, Beaph: Sallenoy Lave                         \n",
      "\n",
      "Epoch 6 average loss = 0.885677328229\n",
      "Generated names\n",
      "[3RU] Sorcery: Cavioruta                                     [2GG] Creature, Glorkol: Goad Batf                           [/GGW] Creature, Goarrion: Kakter Screodwialan               [1W] Creature, Ong Winather: Willan Ithectactle              [W] Enchantment, Ane Sophiry: Sardgath Caer                  [None] Landarker, Farvenfalk Dold: Sifend Rotidal            [4RR] Legendary Creature, Aid Melag: Mhoull Walsf            [4R] Enchantment, Aura: Aghtroust Scowlere                   [R/W] Sorcery: Ended Arcray                                  [3] Artifact: Watato Bead                                    \n",
      "\n",
      "Epoch 7 average loss = 0.868971045494\n",
      "Generated names\n",
      "[3UU] Instant: Inthete Grata                                 [2RB] Creature, Element: Silind Prralgor                     [Noge] Cechant: Stiving Inap                                 [2UB] Creature, Migon: Firghtad Moos                         [3] Artifact: Satea Siphanger                                [6] Artifact: Vurtion Gililapiok                             [1W] Sorcery: Rest Lanan                                     [4GG] Tridendarure, Miris: Kacisatal Tanten                  [W] Sorcery, Baw: Whened Lifer                               [2UU] Soncery: Riylodiane Cech                               \n",
      "\n",
      "Epoch 8 average loss = 0.850753300548\n",
      "Generated names\n",
      "[4R] Instant: Ceecc Cactaur                                  [2XW] Creature, Faic: Shimate Basric                         [2R] Instant: Geardlug Triqy                                 [U] Sorcery: Exehsian Firel                                  [W] Instant: Bhaind Ma Apiss                                 [2WW] Creature, Human Wizard: Ervestatiencle                 [B] Legendary Creature, Bagl Soldiigice Dragpiork Rige: Tree [2BB] Sorcere: Ineresh Gordsing                              [4U] Creature, Roipork Warror: Spichiid Thine                [2U] Soryary: Naderit                                        \n",
      "\n",
      "Epoch 9 average loss = 0.838751722813\n",
      "Generated names\n",
      "[2U/R] Sorcery: Deltois Mag Issenfale                        [6B] Sorcery: Carade Yake                                    [1W] Sorcery: Bound Mandes                                   [XR] Enchantment: Dhretlaned Irdiaa                          [1G] Creature, Beast: Hondan Waver                           [1RR] Instant: Grotinet, Girke                               [None] Legend: Cakan trerow                                  [3] Artifact Creature, Spirit: Stid Recline                  [4RG] Instant: Colkwzal Cuist                                [2G] Enchantment: Prazaxian Ahvigh                           \n",
      "\n",
      "Epoch 10 average loss = 0.828508677959\n",
      "Generated names\n",
      "[2W] Instant: Kantle Trealcrage                              [4W] Creature, Human Rosman: Hycurpu Tamtlice Aviffees-      [4G] Creature, Klrot: Eideendoar                             [None] Band: Lobbe Mossing                                   [2UB] Legendary Creatur Creature, Human: Warserutae Warrior: [1Rore] Land: Bunerian My Mene                               [RRRB] Legendary Creature, Kefer Mund: Chachite Skwiliver    [1GGG] Creature, Elf: Eldeon Gijbloil                        [1G] Sorcery: Exdre Prut oldiol                              [WW] Creature, Human Warrior: Sarvhrapk Aurtuldic            \n",
      "\n",
      "Epoch 11 average loss = 0.820306650043\n",
      "Generated names\n",
      "[1U] Instant: Veml of the Buzy Hioder                        [2U] Creature, Constuld: Tate Amplent                        [3W] Creature, Ardler: Bho's Meciss Foid                     [1R] Instant: Ermith of Avadg                                [3B] Creature, Beant: Blouiz Holbace                         [2G] Creature, Goblar: Mone Bighto                           [UU] Instant: Veptie Rom                                     [3U] Instant: Hungus of the Dether                           [3G] Instant: Egepmator                                      [None] Lenemant Koguser: Chariater Kin Nankencs              \n",
      "\n",
      "Epoch 12 average loss = 0.812846524596\n",
      "Generated names\n",
      "[1U] Enchantment: Mavoiline Singrer                          [4WWG] Creature, Elemental Drid Mercere Shaganior: Fraging H [3G] Instant: Scotstan Borm                                  [None] Enchantment, Shaman: Liadus Ixnazes                   [2W] Creature, Ispensil: Saldod Empery                       [1Re] Creature, Firator: Hamptan of Zeonies                  [8] Artifact Creature, Beast: Scrice                         [5GG] Volenentary, Equipment: Vundial Fider                  [RB] Plagendale, Meandinie: Malad                            [5W] Instant: Urmin Ovum                                     \n",
      "\n",
      "Epoch 13 average loss = 0.801117757916\n",
      "Generated names\n",
      "[4G] Creature, Elemental: Postiu Cur of Emast                [None] Leghdale Creature, Kaguer: Swalgunighing Ghrase       [4W] Creature, Dromes Cryed Minlarutiut: Meline Attrar       [3GG] Sorcurre, Imenines: Grifal of Elellaorcy               [None] Plane, Spked-thsifh fappuster                         [1TG] Insmant: Ladorter Cambeid                              [None] Cmeature, Imp: Scardsalde                             [3RW] Creature, Irshe, Nacrond: Lorgsamape Mexer             [2B] Creature, Meroctire: Avare Dusaverwier                  [2UU] Instant: Sace of the Wancarwon                         \n",
      "\n",
      "Epoch 14 average loss = 0.80134967494\n",
      "Generated names\n",
      "[1R] Enchantment: Dunning Dents                              [B] Creature, Repeef, Sestont: Gloll tuilfthics              [2UG] Creature, Human Arsid: Twind Borty                     [6GW] Creature, Eluid: Daliont Infoge                        [G] Creature, Human Shaman: Ansish of the Prasicta           [2RR] Enchantment: Jourk' Rargomota                          [BBB] Legendary Creature, Bar Scirion: Noldencalc            [2R] Creature, Human Solfier: Tu Shirric                     [1R] Sorcery: Senicoin Morm                                  [3W] Creature, Human Warror: Rakidalksooder Barrotor         \n",
      "\n",
      "Epoch 15 average loss = 0.79696184516\n",
      "Generated names\n",
      "[4UR] Sorcere, Artif: Pimarata's Sacrumake                   [G] Enchantment: Ocringher of Brilcocy                       [3B] Creature, Elfraziwary: Scous Warrion                    [3UU] Legendary Creature, Human Scrine: Sunbondis of Tistss  [None] Land, Goure Ovano Shamather                           [1U] Instant: Barrous Rute                                   [2R] Instant, Layre: Preoal                                  [1R] Creature, Kizar Warrior: Belle Avellod                  [6BB] Creature, Cot: Wingles Ur Intoon                       [WU] Creature, Elephalken: Camtade Wird                      \n",
      "\n",
      "Epoch 16 average loss = 0.786811954141\n",
      "Generated names\n",
      "[1BB] Creature, Conk: Krest Chapther                         [5B] Instant: Rive Rockering                                 [1GG] Creature, Human: Namados Watstont                      [2BB] Creature, Drewowf Druid: Ellind Room                   [1R/P] Enchantment, Thall: Rephelstue Arche                  [U] Creature, Hopling: Bhy-Thrich's Slork                    [2GR] Sorcery: Javoin Catari                                 [GG] Creature, Insect: Divery Groodd                         [R] Sorcerker: Nane Ascuerror                                [R] Instant: Heaya Wewer                                     \n",
      "\n",
      "Epoch 17 average loss = 0.788843051076\n",
      "Generated names\n",
      "[3BB] Sorcery: Skovin Fargice                                [Rl] Enchantment, Aura: Damebion Saldier                     [2B/GR//W] Creature, Drogher: Wild of Da, the Ruke           [B] Instant, Tropean: Xiths's                                [B] Creature, Raget Dope: Cron of Vorda Zoptremanfie         [None] Land: Strefoft Gum                                    [3W] Creature, Wale: Lazead Tultmoor                         [1R] Creature, Insect Windin Rogu: Ruipe Far-Anarlarp        [6] Artifact Creature, Constrice: Lon of Lessior             [3WWWW] Legendary Creature, Elemental: Spthiver Mistyer      \n",
      "\n",
      "Epoch 18 average loss = 0.78062683475\n",
      "Generated names\n",
      "[2G] Sorcery: Criderin Wurted Shawless                       [1G] Instant: Prolb Heeminc                                  [2UB] Legendary Creature, Bird Wurning: Fet Le-Foint         [2] Legenday: Cardello's Orblent                             [GG] Creature, Spirit Horror: Grids Skamt                    [1GW] Artifalm Creature, Cisuif: Snighinnuc Cleethin         [4] Artifyant Equid: Arbrite Arter                           [2GG] Sorcery: Weeld Skeull                                  [U] Creature, Hurdous Walfori Urezan: Blodge's Iscalcuety    [None] Phand, Wardier Knightar Avarior: Kage Fambera         \n",
      "\n",
      "Epoch 19 average loss = 0.777692548156\n",
      "Generated names\n",
      "[1WR] Creature, Human Horrior: Harrisaly Aurdvebeont         [None] Pold: Crapkenrovere                                   [1U] Instant: Spelle Syress                                  [RU] Creature, Zombie: Creeking Soxinges                     [3RR] Creature, Elemental: Quean Gourding                    [1UU] Instmant: Wit-Brichin                                  [3R] Sorcery: Bene Rash                                      [1B] Legendary Creature, Human Right: Gourder Spiems         [2U] Instant: Undol Spermer                                  [3B] Creature, Human Seade: Heallap Pine-the Mundwil Spirona \n",
      "\n",
      "Epoch 20 average loss = 0.774814894676\n",
      "Generated names\n",
      "[4U] Sorcery: Sunzels of Chercakumy                          [3W] Instant: Soudiod                                        [4RG] Creature, Human: Urzotal Coblif                        [4] Artifact Creature, Menper: Sphurchas Yegit               [XW] Enstant: Fregit                                         [1G] Creature, Cat Arsifie: Lood Sant Pid ward               [B] Creature, Can: Widdh of the Hultar                       [BR] Creature, Goblin: Maral of Kest                         [5RW] Creature, Drood Werker: Wallwing Swase                 [3RR] Creature, Skike: Mentalk Chaling                       \n",
      "\n",
      "Epoch 21 average loss = 0.770893905282\n",
      "Generated names\n",
      "[4RR] Legendary Enchantment, Aurd: Re Drair                  [2WWU] Creature, Bear Spysstolk: Showader Wolt               [4W] Creature, Trapelen: Flistbrith War                      [4W] Enchantment, Aura: Scastravontilgunt Ong                [3GWU] Legendary Creature, Kat Spale: Spaldeiming Stilus     [B/BB/G] Creature, Elemental: Tenrit Folanent                [None] Land: Speelsha                                        [3G] Sorcery: Goblind of Guist                               [2WW] Creature, Human Crelik Soldier: Fherens: Literatinn    [None] Vanguin Elemempant: Thaho Gule                        \n",
      "\n",
      "Epoch 22 average loss = 0.769481454611\n",
      "Generated names\n",
      "[2G] Instant: Unancourt Hinds                                [1U] Instant: Witfderidee                                    [2R] Creature, Spirit: Gran Anglidos                         [5W] Creature, Spirit: Fonstlech Idnon                       [3UUU] Sorcery: Dreatan Roiment                              [U] Sorcery: Ondker Mombora                                  [2B] Creature, Goblin: Ghtacher Compar                       [4R] Creature, Kninox: Nemochau Thosnumancy                  [3BG] Creature, Zombie Arter: S Aeted of Baros               [1WG] Creature, Giant: Errod Whola                           \n",
      "\n",
      "Epoch 23 average loss = 0.766958598971\n",
      "Generated names\n",
      "[2W] Enchantment: Canathocty 0erderier                       [U] Enchantment, Bire: Sant, Stokeralic Strimon              [W] Sorcery: Hagact of the Juncile                           [4] Artifact: Plishsic Rapperieont                           [5B] Creature, Goblin: Flappusing Levinght                   [W] Sorcery: Quart of Blases of Baiplers                     [None] Creatuper, Wurd: Mithin of Insir                      [BG] Creature, Skerewint Hation: Noik Bougn                  [U] Creature, Human Warrior: Skystic Tought                  [2B] Instant: Swellshy                                       \n",
      "\n",
      "Epoch 24 average loss = 0.763209730625\n",
      "Generated names\n",
      "[2U] Creature, Dragon: Conile Lugen                          [1G] Instant: Treatring Stratt                               [3] Artifact Creature, Dragon: Vere of Sime                  [2U] Creature, Elemental Screake: Lore Woll                  [4BB] Creature, Zombie: Durstood Etaodh                      [1RG] Creature, Cat Slolker Warrier: Vodesseed Indemsiant    [1W] Creature, Platon: Koenstid Warl                         [3BB] Creature, Zovilk: Cupsraker Huraver                    [1B] Sorcery: Mast the Tomperbne                             [4BB] Creaturee, Illunin: Vour Wates                         \n",
      "\n",
      "Epoch 25 average loss = 0.761261317492\n",
      "Generated names\n",
      "[4UU] Creature, Snaman Knifoc: Provelider Firker             [2BBG] Creature, Faterw: Knight Hator old                    [2U] Instant: Gug Patava                                     [2BB] Creature, Djinn Wizard: Gomblur Spark                  [1GB] Legendary Creature, Opgel: Scakial Gromentrecken Zeici [2R] Creature, Spkid: Senowt Duarh                           [2G] Creature, Human Wizard: Wild Knid Kage                  [2BBB] Legendary Creature, Dwarf Alligh Wizard: Ettlewspnica [B] Creature, Homprast: Sephreak Lices                       [G] Creature, Angel: Slifnaruck Tunge                        \n",
      "\n",
      "Epoch 26 average loss = 0.759187317967\n",
      "Generated names\n",
      "[3U] Creature, Spirit: Salcaort Stager                       [None] Land: Whel indstou                                    [U] Creature, Human Warrior: Invightaund Aunge               [2W] Sorcery Creature, Zombie: Mastshate Ogrator             [1W] Enchantment, Aura: Swarmstyring                         [4BB] Creature, Demen: Vampueath Slow                        [3W] Creature, Human Druastizic: Nieoman Tedann              [4] Artifact: Netlan Senge                                   [4B] Creature, Feeri: Baptie Shiscate                        [2W] Tribal Artifact, Champin, Leded: Kamawering Meles       \n",
      "\n",
      "Epoch 27 average loss = 0.759897722125\n",
      "Generated names\n",
      "[1BR] Creature, Grifolk Wizard: Namish Desies                [6BB] Sorcery: Rash Varsie                                   [BBR] Creature, Elemental: Tindumpariad                      [2R] Sorcery: Mutessit Arbs                                  [1R] Sorcery: Goll Stane                                     [3G] Enchant, Artene: Quarwither Puere                       [1G] Enchantment, Aura: Fit Phorkek                          [U/BB] Creature, Spirit Aotue: Encete Kesor                  [R] Enchantment: Shitiver Titty                              [1B] Creature, Zomun Marrion: Morin of the Mastirisnent Emp  \n",
      "\n",
      "Epoch 28 average loss = 0.753597457409\n",
      "Generated names\n",
      "[1B] Instant: Inve Mists                                     [1R] Artifact: Gaslisian                                     [2B] Creaturer Bermon Dredie: Kealdlingu Zeant               [1U/RU/B] Summany: Ryblish Stodesca Shaws                    [2] Artifact, Shaic: Sperath of Plymase                      [W] Sorcery: Stouck of Teary                                 [3G] Creature, Bird Cat: Thava, Cetiand Arces                [3W] Creature, Human Wizard: Devinamel Missalky              [R] Creature, Goblin Warrior Werel: Kaaving Damstosserd      [2WW] Planensany Creature, Seepher: Spee, the Ravergedlos    \n",
      "\n",
      "Epoch 29 average loss = 0.75420216012\n",
      "Generated names\n",
      "[2W] Creature, Fipg: Call Worat                              [2U] Creature, Goblin Scout: Mnorcow Wassinor                [1W] Creature, Human Knight: Solit Nynk Seeath               [2WW] Legendan Creature, Human Spirit: Ramulm of Groeken     [GGG] Creature, Wizard: Myshed                               [None] Tramure, Arcem: Priom Sem                             [WU] Creature, Vampiro Wurm: Pespentle Bant                  [1R] Instant, Arrifacy: Pulid Fene                           [5RB] Creature, Human Kaph: Flasor Lyxint                    [RR] Legencary Creature, Drat: Glave ong Fight of Hornverw   \n",
      "\n",
      "Epoch 30 average loss = 0.755478898168\n",
      "Generated names\n",
      "[1WW] Creature, Elf Shaman: Melarstical the Priast Zead      [2GG] Creature, Wurd: Wild of Rag thestarl                   [3GGG] Creature, Spirit: Ployt Speating                      [R] Creature, Kor Shaman: Truemtrimy of the Spoce            [None] Creature, Inpely: Zontizmedorwidd                     [2G] Creature: Sedoist thritshist                            [2UU] Enchantment Creature, Termon: Giling Giant             [1U] Creature, Human Soldier: Briter ow Infer                [BB] Creature, Human Knightic: Mantomost Knouth              [2W] Instant: Vighthupher Ascorted                           \n",
      "\n",
      "Epoch 31 average loss = 0.751023059845\n",
      "Generated names\n",
      "[3UUU] Legendary Creature, Elf Berswarker: Cairn-Ghinelet Sn [5] Artifact: Ravaine Guanous                                [1B] Creature, Human Soldier: Rathelfaoo                     [3WW] Instant: Rewing ofve                                   [W] Instant: Necamac Slive                                   [GR] Legendary Arcifact Creature, Soldiar: Foomeroo Twarmper [3BBBB] Creature, Hororud Clericary: Uruphart Spanger        [5] Artifact: Capnil Moranas                                 [U] Creature, Drum: Doulted Chlidous                         [1R] Sorcery: Ginded Chillent                                \n",
      "\n",
      "Epoch 32 average loss = 0.751116526246\n",
      "Generated names\n",
      "[5W] Creature, Hound Cleric: Korny of the Namkpum            [B] Artifact: Reving Path                                    [2W] Enchantment: Rakestwoyaned                              [1R] Tord Enchantment, Aura: Avaca                           [3U] Sorcery: Fa, Tend                                       [3W] Legendaly Creature, Imp: Drains of the Bamian           [3U] Instant: Unnil Eges                                     [W] Enchantment, Aura: Dust of Tangling                      [R] Creature, Beast: Trederozer Caspeel                      [2W] Creature, Lithkel: Arconather Ascasietion               \n",
      "\n",
      "Epoch 33 average loss = 0.751798300028\n",
      "Generated names\n",
      "[2B] Creature, Zombior: Kossvaves Jusk                       [U] Creature, Bapbtrathon: Flor of the Suncherict            [2W] Sorcery: Avenge of Frarth                               [2G] Sorcery: Exisaur Envetch                                [5B] Sorcery: Blan-the Friddrate                             [2B] Enchantment: Osirordul Shame                            [2W] Enchantment, Aura: Greeldracte of the Athover           [3B] Creature, Chongolk Wizari: Filent Spide                 [2G] Enchantment: Sumbne                                     [G] Enchantment: Rey                                         \n",
      "\n",
      "Epoch 34 average loss = 0.750453814507\n",
      "Generated names\n",
      "[W] Creature, Human Omeac Clerel: Memook, Mathing Heacher    [2U] Instant: Nundsta Reas                                   [RG] Creature, Korn Soldier Clerichyr Beast: Plo Pristina    [1] Artifact: Mist of Hutsion                                [2U] Creature, Lizard: Marg's Charbher                       [1RR] Creature, Oycer: Chiec Sentic                          [2B] Creature, Ellen: Hajaxal Tulge                          [2GGG] Creature, Elf Soldier: Mood Chimon                    [G] Creature, Human Elf Sparet: Rorafice Batcrout            [1B] Sorcery: Gowlust Warr                                   \n",
      "\n",
      "Epoch 35 average loss = 0.750767124653\n",
      "Generated names\n",
      "[3R] Instant: Bretmoos Skimort                               [1W] Legendary Creature, Gublen Bar: Apgraya, Loyb of Carn   [1G] Enchantment: Marriaross                                 [1U] Instant: Borture                                        [W] Enctantmure, Human: Itctane Hunst                        [None] Land: Prap                                            [3] Artifact: Flol of tome                                   [4GW] Sorcery: Sack-Spthidianc                               [1GU] Instant: Stor Pnast                                    [3B] Instant: Ugno Masticion                                 \n",
      "\n",
      "Epoch 36 average loss = 0.74558507216\n",
      "Generated names\n",
      "[W] Creature, Human Soldier: Prablite Crossa                 [2B] Creature, Human Wizard: Yovan of Lloldstops             [2U] Creature, Giantaut: Falle, Reple Sauns                  [1] Artifact Creature, Snaid: Lishad Vemade                  [2G] Creature, Human Sraser: Eldred Hrawn                    [1U] Instant, Arcene: Breef                                  [None] Land: Thorge Spe Spellkannite                         [2G] Creature, Cithinf: Grabl Winf                           [None] Vangubare, Vampsin: Magodand Catanim                  [3WW] Creature, Homui Lann: Shapklin Invitaor                \n",
      "\n",
      "Epoch 37 average loss = 0.745313550115\n",
      "Generated names\n",
      "[6W] Creature, Riphezel: Remonic Thollnite                   [GG] Sorcery: Scalloirald Prief                              [2B] Sorcery: Sloya's Nenar                                  [RR] Sorcery: Loirs of Gurffile                              [None] Creature, Snake: Wallert Crald                        [3R] Creature, Insect Rovi: Gine Seftenger                   [6W] Enchantment Creature, Moonoctra: Seest in Clant         [2] Artifact Creature, Homrrich: Blhockum Sunvent            [B] Sorcery: Surn Spengrator                                 [3RR] Creature, Human Wizard: Womid Plad                     \n",
      "\n",
      "Epoch 38 average loss = 0.744430419683\n",
      "Generated names\n",
      "[2U] Creature, Fiving: Claurtic Refiver                      [1GG] Enchantment, Aura: Delingi Teuce                       [3] Artifact Prieder: Craster Phy  Call of the of Tormbreate [2] Artifact: Unar Guthingacted                              [4GG] Sorcery: Pralina's Ward                                [2R/P] Creature, Sharit: Paton Cor                           [None] Phiand, Rattaning Luntrative Andmane                  [B] Sorcery: Eardwal Forilatyr                               [2WW] Creature, Human Sambrin: Hipgag Gall Krsig Gaglies     [2RRR] Creature, Elemental: Aquus of Exolist                 \n",
      "\n",
      "Epoch 39 average loss = 0.744139464855\n",
      "Generated names\n",
      "[W] Instant: Daur'd Coot                                     [R] Instant: Flow of Respher                                 [5B] Creature, Human Shaman: Warriar's Bockerder             [1G] Enchantment, Aura: Plofstiling Demarstonter             [7U] Creature, Human Artix Beand: Pigar Tarriot              [1U] Instant: Bode Ex-Scitt                                  [1R] Creature, Vampire Monk: Retless of Obute                [WR] Instant: Flable                                         [W] Creature, Alusina: Spireke Hears                         [3G] Enchantment, Aura: Rardert Choce                        \n",
      "\n",
      "Epoch 40 average loss = 0.742891429663\n",
      "Generated names\n",
      "[1GG] Creature, Wurm Artificer: Slezztanc                    [2BBB] Legendary Creature, Human Assten: Alal Elder Cant     [XUB] Instant: Tize Blent                                    [1GG] Creature, Commanic Warrior: Taltar Husasian            [3G] Creature, Elemental: Genedok Knight                     [3W] Legesmary Creature, Human Assons: Goblin Counter        [4U] Creature, Human Merceur: Tountering Destalk             [5] Artifact: Ulviuver                                       [3] Artifact Creature, InsAzer: Icolca Shiddreler            [1UR] Instali, Scalker: Enort Charsereder                    \n",
      "\n",
      "Epoch 41 average loss = 0.744778043866\n",
      "Generated names\n",
      "[U] Creature, Plainf Warrior: Snaver Devol the Avanowl       [2WW] Sorcery, Arcane: Disest's Sater                        [2UU] Creature, Giantmer Shaman: Still Cauntance             [4U] Sorcery: Argosteo                                       [2G] Creature, Human Soldier: Minniod Gilen                  [XBB] Enchantment, Aura: Necror Drakst                       [3W] Creature, Miyferic: Brolding Fask                       [BBR] Creature, Deain: Infistroulty's Crarist                [] Creature, Human Cleric: Prapter Orumon                    [2GU] Instant: Remotor Sald                                  \n",
      "\n",
      "Epoch 42 average loss = 0.743431801677\n",
      "Generated names\n",
      "[GW] Sorcery: Clood Dragon                                   [None] Land, Ait: Evirnuli                                   [3U] Sorcery: Reve                                           [1W] Instant: Pame Sist                                      [3WW] Creature, Cat: Bhind's Cuege                           [3] Artifact: Teal fynd                                      [3G] Sorcery: Flamon Eng                                     [2U] Artifact: Blesca Towat                                  [2B] Artifact Creat Equipment: Seazy Baned Mal ulifecic      [2WW] Enchantment: Atzal Elel                                \n",
      "\n",
      "Epoch 43 average loss = 0.742262705803\n",
      "Generated names\n",
      "[B] Sorcery: Selly                                           [UU] Plandeature, Forble: Falperataver's Blossen             [1G] Instant: Orch Urpher                                    [5B] Sorcery: Detra's Stand                                  [1B] Legendary Creature, Human Monker Hyd: Ice Gurvingist    [G] Creature, Aethant Knight: Cral Herkhereckin              [4WBU] Creature, Zamaewil: Myriti Campiggenance              [1B] Creature, Horror: Army Snak Moted                       [B] Sorcery: Ar the Waker                                    [1RR] Sorcery: Mistone                                       \n",
      "\n",
      "Epoch 44 average loss = 0.738578743815\n",
      "Generated names\n",
      "[2R] Instant: Ramps the Sorcer                               [1R] Enchantment: Resh of the the Towas                      [R] Creature, Insecler: Whindsing Riventer                   [1RR] Creature, Human Wizard: Sporner Spimint                [B] Instant: Brazemood Desence                               [2UR] Enchantment: Surasex                                   [1RB] Inchantment, Aura: Stindd Warn                         [1RR] Creature, Inshin Merer: Met Slictinns                  [3B] Creature, Human Solfulker: Darus Sliem                  [3WWW] Creature, Human Druid: Sarkering Bursar               \n",
      "\n",
      "Epoch 45 average loss = 0.743062994838\n",
      "Generated names\n",
      "[None] Land: Polchoot                                        [1R] Instant: Per of Awbromir                                [1WW] Enchantment: Mo Fire                                   [4R] Creature, Merfoli, Aniver: Myscoyhial Ef Shictasce      [G] Enchantment, Aura: Sout Molase                           [WU] Creature, Human Soldier: Kirjagu Ezerwiemict            [1U] Creature, Human Koik: Thuidslom Eng Surte               [XXUBR] Sorcery: Strent                                      [R] Creature, Elemental: Traros, thoda Drakembokian          [1GG] Creature, Spider: Stalkimar of Wield                   \n",
      "\n",
      "Epoch 46 average loss = 0.741216909647\n",
      "Generated names\n",
      "[3G] Creature, Human Cleric: Barsen Acel sith                [2B] Creature, Fogue: Gile Dremonds                          [GU] Creature, Human Ninla Warrior: Vesig Skulter            [U] Instant: Strillium Unataty                               [2WW] Enchantment Creature, Human Wizard: Glow Comper        [2W/UW/B] Creature, Human Wizard: Equinate Rea Minds         [2G] Enchantment: Paveguaros's Scarator                      [2G] Creature, Human Cleric: Sedid's Scy Misth               [2W] Creature, Human Cleric: Dazeglo of Threild              [3G] Creature, Human Roggon: Dation's Bendem                 \n",
      "\n",
      "Epoch 47 average loss = 0.743900977969\n",
      "Generated names\n",
      "[2W] Creature, Cat: Coty Oonal                               [4G] Creature, Elf Dragon: Rascist of the Inserwiration      [2U] Creature, Vampire: Wermon Deation                       [1U] Instant: Regrien Lictatast                              [1R] Tort Createnture: Summoon Encurnate                     [2R] Creature, Human Wizard: Gadd Pasalv                     [4U] Instant: Giant Slip                                     [U] Artifact: Lozia Aviva                                    [GRR] Creature, Slive: Scecta's Closs                        [R/G] Instant: Unborg Beoth                                  \n",
      "\n",
      "Epoch 48 average loss = 0.740648384333\n",
      "Generated names\n",
      "[4W] Enchantment, Aura: Bapthersiera's Warrow                [B] Sorcery: Fenkery Nelings                                 [2B] Sorcery: Latare Flossigif                               [1] Artifact: Bungony of Ascenguns                           [4RR] Legendary: Bribegle                                    [2] Artifact Creature, Efflest: Cocoling Godobleir           [R] Artifact: Dre Chilling                                   [G] Instant: Allath                                          [3R] Instant: Dechooper Verfownshap                          [1] Artifact, Crumanur Stheme: Treatken Fayge                \n",
      "\n",
      "Epoch 49 average loss = 0.736459232092\n",
      "Generated names\n",
      "[2R] Enchantment: Comblazed Priestbult                       [2R] Enchantment, Aura: Ilynatok Pastem                      [1R] Creature, Human Wizard: Djinigakel Toondear             [1BB] Enchantment, Aura: Preclosi Forsp                      [1R] Creature, Zombie Widarf: Prord Consting                 [2WW] Llegendary Creature, Human Rogue: Decraly-Lid Bandorow [5GGG] Enchantment: Ceeptidgnoti Alvedeex                    [2W/U] Enchantment: Sthelvous Pyrotmordarger                 [G] Creature, Human Soldier Bereid: Inriel Stone-Kerder      [2W] Creature, Spirit: Maraum                                \n",
      "\n",
      "Epoch 50 average loss = 0.738928518057\n",
      "Generated names\n",
      "[2G] Sorcery: Rael of Etream                                 [2G] Enchantment, Aura Cura: Vibiamoy Conses                 [1BBG] Creature, Zombie Shaman: Stoyfinak Horsing Dritate    [2U] Enchantment, Aura: Marna, Spiscletid -er-Redon          [GG] Creature, Human Werelel Homprer: Orde-Allim Qucken      [4RRR] Creature, Spidion: Exmalunzer Reak                    [None] Land: Ad-Revhepphon                                   [1R] Enchantment, Aura: Hunnation Lazblather                 [1R] Creature, Dhad: Lom Pather                              [5GUU] Creature, Lavirio: Taporoot Woerbildkine              \n",
      "\n",
      "Epoch 51 average loss = 0.746006064177\n",
      "Generated names\n",
      "[2GGG] Creature, Elf Warrios: Smike Thaptun, Kiondice Swampi [2W] Creature, Human Wizard: Talabo, Gobblar Ancisten        [3RG] Creature, Beast: Read Ampolice                         [3RW] Enchantment: Tipegunted Rawer                          [U/G] Instant: Ash's Innsion                                 [1] Artifact, Equipment: Scaborditaral Extless               [4G] Creature, Rirghen: Atrushand Guarigiter                 [4RR] Creature, Giant: Ragh of Eidas                         [1R] Enchantment, Aura: Authomar Peath                       [4BB] Creature, Zombie: Splict Agined                        \n",
      "\n",
      "Epoch 52 average loss = 0.740180446506\n",
      "Generated names\n",
      "[3W] Creature, Human Soldier: Unegation Dath                 [GW] Creature, Minovin Beast: Magastuo Tyratitance           [5BG] Craature, Shaplk Warriqan: Swarvers Glift              [3U] Enchantment: Avenwanger                                 [2BB] Enchantmant: Probl                                     [1U] Instant: Scangant                                       [3BBB] Creat Creature, Zombie Rogue: Hiverfarm               [6] Artifact: Deak CanGusiart                                [2U] Instant: Azziu the Winest                               [1WW] Creature, Human Soldier: Twinn Dragon                  \n",
      "\n",
      "Epoch 53 average loss = 0.742565318108\n",
      "Generated names\n",
      "[3B] Creature, Dlest: Strip Duid                             [3BB] Creature, Zomad!arur: Thasters Town                    [W] Enchantment: Consear Amansaut                            [R] Creature, Human Warrior: Rloodboric Laturanen            [1BB] Enchantment: Mantmonizzeory Skarcect                   [3U] Creature, Fat Swake: Wieler Spilis                      [5GG] Creature, Argel: Covan Fanestesment                    [3G] Sorcery: Norbse Worse                                   [GUUU/GG/PR/PB/U] Creature, Skivin Rob: Medayn Heeatur       [2G] Sorcery: Sunperia Borge                                 \n",
      "\n",
      "Epoch 54 average loss = 0.738719914556\n",
      "Generated names\n",
      "[3WW] Sorcery: Glunger Mactorshors                           [2WW] Creature, Human Ally: Mistogingert Freef               [1RRGW] Legendary Creature, Meast: Yeophar Glind Paraant     [4GG] Creature, Elf Druid: Fabinticare Zentack               [2UR] Creature, Lizard Warrier: Torcebaamak Woal             [1UR] Instant: Hetcharte                                     [4RR] Enchantment: Eromentering Cammorca's                   [1WW] Enchantment: Rnins Ercenstack                          [2BB] Creature, Horru Wertolken Spaper: Nankul Sedrumbless   [4BBB] Legendary Creature, Vaminaty: Namer Ercedras         "
     ]
    }
   ],
   "source": [
    "\n",
    "print(\"Training ...\")\n",
    "\n",
    "\n",
    "#total N iterations\n",
    "n_epochs=100\n",
    "\n",
    "# how many minibatches are there in the epoch \n",
    "batches_per_epoch = 500\n",
    "\n",
    "#how many training sequences are processed in a single function call\n",
    "batch_size=32\n",
    "\n",
    "loss_history = []\n",
    "\n",
    "for epoch,t in enumerate(np.logspace(0,-2,n_epochs)):\n",
    "    rnn.temp.set_value(np.float32(t))\n",
    "    avg_cost = 0;\n",
    "    for _ in range(batches_per_epoch):\n",
    "        \n",
    "        avg_cost += train_step(sample_batch(names_ix,batch_size))\n",
    "    \n",
    "    loss_history.append(avg_cost)\n",
    "    print(\"\\n\\nEpoch {} average loss = {}\".format(epoch, avg_cost / batches_per_epoch))\n",
    "\n",
    "    print \"Generated names\"\n",
    "    for i in range(10):\n",
    "        print generate_string(),\n"
   ]
  },
  {
   "cell_type": "code",
   "execution_count": null,
   "metadata": {
    "collapsed": true
   },
   "outputs": [],
   "source": [
    "plt.plot(loss_history)"
   ]
  },
  {
   "cell_type": "markdown",
   "metadata": {},
   "source": [
    "# And now,\n",
    "* try lstm/gru\n",
    "* try several layers\n",
    "* try mtg cards\n",
    "* try your own dataset of any kind"
   ]
  },
  {
   "cell_type": "code",
   "execution_count": null,
   "metadata": {
    "collapsed": true
   },
   "outputs": [],
   "source": []
  }
 ],
 "metadata": {
  "anaconda-cloud": {},
  "kernelspec": {
   "display_name": "Python [conda env:py27]",
   "language": "python",
   "name": "conda-env-py27-py"
  },
  "language_info": {
   "codemirror_mode": {
    "name": "ipython",
    "version": 2
   },
   "file_extension": ".py",
   "mimetype": "text/x-python",
   "name": "python",
   "nbconvert_exporter": "python",
   "pygments_lexer": "ipython2",
   "version": "2.7.12"
  }
 },
 "nbformat": 4,
 "nbformat_minor": 0
}
